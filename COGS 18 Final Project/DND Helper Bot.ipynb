{
 "cells": [
  {
   "cell_type": "markdown",
   "metadata": {},
   "source": [
    "I recently joined a Dungeons and Dragons (DND) campaign this quarter. After the presentations of the projects during the Python Party lecture, I was inspired to write a program that would help a player during a DND session. To acheive this goal, I modified Assignment 3 to build a chatbot centered around DND. The following is how  my chatbot, the Dungeon Master works:\n",
    "-  The Dungeon Master asks the user, or player, a series of questions about their DND character such as their name, class, race, and modifier. It checks \"invalid\" responses by asking if the player wants more information.\n",
    "- Then the Dungeon Master asks if the player is ready to play. If yes, the game begins. If not, the game quits.\n",
    "- The Dungeon Master asks the player what action they would like to take: roll, get more information, or quit\n",
    "    - If the player would like to roll: the Dungeon Master asks what kind of roll they would like to do and then simulates rolling a D20 dice. It also checks for a modifier and adds it to the roll if there is one. Finally, the Dungeon Master comments on the roll based on the outcome. \n",
    "    - If the player would like more information: the Dungeon Master asks them to confirm if they would like more information. If so, it tells the user to go to a website that describes the basic rules of DND. If not, it asks the user the action question again.\n",
    "    - If the player would like to quit: the Dungeon Master wishes them farewell and ends the game.\n",
    "- The Dungeone Master asks the action question until the player would like to quit\n",
    "    "
   ]
  },
  {
   "cell_type": "code",
   "execution_count": null,
   "metadata": {},
   "outputs": [],
   "source": [
    "from game import Game\n",
    "Game().play()"
   ]
  }
 ],
 "metadata": {
  "kernelspec": {
   "display_name": "Python 3",
   "language": "python",
   "name": "python3"
  },
  "language_info": {
   "codemirror_mode": {
    "name": "ipython",
    "version": 3
   },
   "file_extension": ".py",
   "mimetype": "text/x-python",
   "name": "python",
   "nbconvert_exporter": "python",
   "pygments_lexer": "ipython3",
   "version": "3.6.7"
  }
 },
 "nbformat": 4,
 "nbformat_minor": 2
}
